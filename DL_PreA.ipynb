{
 "cells": [
  {
   "cell_type": "markdown",
   "metadata": {},
   "source": [
    "# Exercise 1.1"
   ]
  },
  {
   "cell_type": "markdown",
   "metadata": {},
   "source": [
    "\\begin{align}\n",
    "\\frac{\\partial J}{\\partial b} &= \\sum ^n _{i = 1} \\frac{\\partial J}{\\partial z_i}\\cdot\\frac{\\partial z_i}{\\partial b} = \\frac{2}{n}\\sum^n_{i=1}\\left(z_i-y_i\\right) \\\\\n",
    "\\frac{\\partial J}{\\partial w_j} &= \\sum ^n _{i = 1} \\frac{\\partial J}{\\partial z_i}\\cdot\\frac{\\partial z_i}{\\partial w_j} = \\frac{2}{n}\\sum^n_{i=1}\\left(z_i-y_i\\right)x_{ij}\n",
    "\\end{align}"
   ]
  },
  {
   "cell_type": "markdown",
   "metadata": {},
   "source": [
    "# Exercise 1.2"
   ]
  },
  {
   "cell_type": "markdown",
   "metadata": {},
   "source": [
    "\\begin{align}\n",
    "\\frac{\\partial J}{\\partial z_i} &= \\frac{2}{n}\\left(z_i-y_i\\right)\\\\\n",
    "\\frac{\\partial z_i}{\\partial b} &= 1\\\\\n",
    "\\frac{\\partial z_i}{\\partial w_j} &= x_{ij}\\label{5}\n",
    "\\end{align}"
   ]
  },
  {
   "cell_type": "markdown",
   "metadata": {},
   "source": [
    "# Exercise 1.4"
   ]
  },
  {
   "cell_type": "code",
   "execution_count": 11,
   "metadata": {},
   "outputs": [
    {
     "name": "stdout",
     "output_type": "stream",
     "text": [
      "final loss1 =  23.9436629386031\n",
      "final loss2 =  10.881262763231579\n"
     ]
    },
    {
     "data": {
      "image/png": "[encoded data removed]",
      "text/plain": [
       "<Figure size 432x288 with 1 Axes>"
      ]
     },
     "metadata": {
      "needs_background": "light"
     },
     "output_type": "display_data"
    }
   ],
   "source": [
    "import numpy as np\n",
    "import pandas as pd\n",
    "import matplotlib.pyplot as plt\n",
    "\n",
    "def load_auto(x):\n",
    "    Auto = pd.read_csv('Auto.csv', na_values='?', dtype={'ID': str}).dropna().reset_index()\n",
    "    if x == 2:\n",
    "        X_train = Auto[['cylinders','displacement','horsepower','weight', 'acceleration','year','origin']].values\n",
    "    else:\n",
    "        X_train = Auto[['horsepower']].values\n",
    "    Y_train = Auto[['mpg']].values\n",
    "    return X_train, Y_train\n",
    "\n",
    "def gradient_method(x, y):\n",
    "    m,n = np.shape(x)\n",
    "    x_mean = [0 for j in range(n)] #mean of x\n",
    "    x_std = [0 for j in range(n)] #standard deviation of x\n",
    "\n",
    "    for j in range(n):\n",
    "        x_mean[j] = np.mean([x[i][j] for i in range(m)])\n",
    "        x_std[j] = np.std([x[i][j] for i in range(m)])\n",
    "\n",
    "    for i in range(m): #normalization \n",
    "        x[i] = [ (x[i][j] - x_mean[j]) / x_std[j] for j in range(n)]\n",
    "\n",
    "    w = [0 for j in range(n)]\n",
    "    b = 0\n",
    "    alpha = 0.2 #step length/learning rate\n",
    "    z = [0 for i in range(m)]\n",
    "    gradientOfw = [0 for j in range(n)]\n",
    "\n",
    "    loss = []\n",
    "\n",
    "    for iteration in range(0,100):\n",
    "        for i in range(m):\n",
    "            z[i] = sum([x[i][j] * w[j] for j in range(n)]) + b\n",
    "\n",
    "        for j in range(n):\n",
    "            gradientOfw[j] = 2/m * sum(list(map(lambda xi,yi,zi:(zi-yi)*xi, [x[i][j] for i in range(m)], [y[i][0] for i in range(m)], z)))\n",
    "            w[j] = w[j] - alpha * gradientOfw[j]\n",
    "\n",
    "        gradientOfb = 2/m * sum(list(map(lambda yi,zi:(zi-yi), [y[i][0] for i in range(m)], z)))\n",
    "        b = b - alpha * gradientOfb\n",
    "\n",
    "        loss_current = 1/m * sum(list(map(lambda yi,zi:(zi-yi)*(zi-yi), [y[i][0] for i in range(m)], z)))\n",
    "#         print ('(', iteration+1, ',', loss_current,')')\n",
    "        loss.append(loss_current)\n",
    "        \n",
    "    return loss\n",
    "    \n",
    "x, y = load_auto(1)\n",
    "loss1 = gradient_method(x,y)\n",
    "print(\"final loss1 = \", loss1[-1])\n",
    "\n",
    "x, y = load_auto(2)\n",
    "loss2 = gradient_method(x,y)\n",
    "print(\"final loss2 = \", loss2[-1])\n",
    "\n",
    "plt.title('Loss with the number of iterations')\n",
    "plt.xlabel('Iterations')\n",
    "plt.ylabel('Loss')\n",
    "plt.plot(loss1, label=\"loss1\")\n",
    "plt.plot(loss2, label=\"loss2\")\n",
    "plt.legend()\n",
    "plt.grid()"
   ]
  }
 ],
 "metadata": {
  "kernelspec": {
   "display_name": "Python 3",
   "language": "python",
   "name": "python3"
  },
  "language_info": {
   "codemirror_mode": {
    "name": "ipython",
    "version": 3
   },
   "file_extension": ".py",
   "mimetype": "text/x-python",
   "name": "python",
   "nbconvert_exporter": "python",
   "pygments_lexer": "ipython3",
   "version": "3.8.5"
  }
 },
 "nbformat": 4,
 "nbformat_minor": 4
}
